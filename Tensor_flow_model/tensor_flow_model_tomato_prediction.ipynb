{
  "nbformat": 4,
  "nbformat_minor": 0,
  "metadata": {
    "colab": {
      "provenance": []
    },
    "kernelspec": {
      "name": "python3",
      "display_name": "Python 3"
    },
    "language_info": {
      "name": "python"
    }
  },
  "cells": [
    {
      "cell_type": "code",
      "execution_count": 2,
      "metadata": {
        "id": "bYDYSrNtlXbS",
        "colab": {
          "base_uri": "https://localhost:8080/"
        },
        "outputId": "f227ac17-7b7e-4162-ee2e-f4be6a1bfdb9"
      },
      "outputs": [
        {
          "output_type": "stream",
          "name": "stdout",
          "text": [
            "Mounted at /content/drive\n"
          ]
        }
      ],
      "source": [
        "#importation de packages\n",
        "import numpy as np\n",
        "import matplotlib.pyplot as plt\n",
        "import sklearn as sk\n",
        "import pandas as pd\n",
        "import seaborn as sns\n",
        "from google.colab import drive\n",
        "from sklearn.model_selection import train_test_split\n",
        "from sklearn.preprocessing import MinMaxScaler\n",
        "from sklearn.preprocessing import StandardScaler\n",
        "from sklearn.metrics import mean_squared_error, r2_score\n",
        "import tensorflow as tf\n",
        "drive.mount('/content/drive')"
      ]
    },
    {
      "cell_type": "code",
      "source": [
        "# load data from drive\n",
        "data = pd.read_csv('/content/drive/MyDrive/tomato_prediction.csv') "
      ],
      "metadata": {
        "id": "lwrnus7W6xhh"
      },
      "execution_count": 3,
      "outputs": []
    },
    {
      "cell_type": "markdown",
      "source": [
        "comprehension des données et data preprocessing"
      ],
      "metadata": {
        "id": "kcoCR8FR7J_p"
      }
    },
    {
      "cell_type": "code",
      "source": [
        "# data preprocessing\n",
        "print(data.head())\n",
        "print(data.info())\n",
        "print(data.isnull().sum())\n",
        "\n",
        "scaler = MinMaxScaler()\n",
        "scaled_data = scaler.fit_transform(data)\n",
        "\n",
        "# check the replication\n",
        "print(data.duplicated().sum())\n",
        "print(data.shape)\n",
        "\n",
        "# supprision de replication\n",
        "data = data.drop_duplicates()\n",
        "print(data.shape)"
      ],
      "metadata": {
        "id": "qzfvKb0r7QKp",
        "colab": {
          "base_uri": "https://localhost:8080/"
        },
        "outputId": "2cb8e556-db4f-4fa4-ec2e-f05cb86cf748"
      },
      "execution_count": 4,
      "outputs": [
        {
          "output_type": "stream",
          "name": "stdout",
          "text": [
            "   humidity(%)   luminosity(lux)   PH   temperature_soil(degrees Celsius)  \\\n",
            "0           71              1600  6.5                                23.3   \n",
            "1           75              2000  6.9                                25.8   \n",
            "2           64              1200  6.1                                21.8   \n",
            "3           69              1700  6.6                                24.5   \n",
            "4           66              1300  6.3                                22.7   \n",
            "\n",
            "    temperature_air(degrees Celsius)   water_flow(liter/hour)  \\\n",
            "0                               28.3                      2.2   \n",
            "1                               30.8                      3.3   \n",
            "2                               26.8                      1.9   \n",
            "3                               29.5                      2.8   \n",
            "4                               27.7                      2.4   \n",
            "\n",
            "    water_needed(l)  \n",
            "0               4.5  \n",
            "1               5.2  \n",
            "2               3.8  \n",
            "3               4.1  \n",
            "4               3.6  \n",
            "<class 'pandas.core.frame.DataFrame'>\n",
            "RangeIndex: 302 entries, 0 to 301\n",
            "Data columns (total 7 columns):\n",
            " #   Column                              Non-Null Count  Dtype  \n",
            "---  ------                              --------------  -----  \n",
            " 0   humidity(%)                         302 non-null    int64  \n",
            " 1    luminosity(lux)                    302 non-null    int64  \n",
            " 2    PH                                 302 non-null    float64\n",
            " 3    temperature_soil(degrees Celsius)  302 non-null    float64\n",
            " 4    temperature_air(degrees Celsius)   302 non-null    float64\n",
            " 5    water_flow(liter/hour)             302 non-null    float64\n",
            " 6    water_needed(l)                    302 non-null    float64\n",
            "dtypes: float64(5), int64(2)\n",
            "memory usage: 16.6 KB\n",
            "None\n",
            "humidity(%)                           0\n",
            " luminosity(lux)                      0\n",
            " PH                                   0\n",
            " temperature_soil(degrees Celsius)    0\n",
            " temperature_air(degrees Celsius)     0\n",
            " water_flow(liter/hour)               0\n",
            " water_needed(l)                      0\n",
            "dtype: int64\n",
            "244\n",
            "(302, 7)\n",
            "(58, 7)\n"
          ]
        }
      ]
    },
    {
      "cell_type": "code",
      "source": [
        "#preparation of features and target for the data preprocessing\n",
        "X=data.iloc[:,0:6]\n",
        "X.head()\n",
        "Y=data.iloc[:,-1]\n",
        "print('X=\\n',X.head(),'\\n')\n",
        "print('Y=\\n',Y.head(),'\\n')"
      ],
      "metadata": {
        "id": "nZO6s7w97fmK",
        "colab": {
          "base_uri": "https://localhost:8080/"
        },
        "outputId": "39bc2a55-6e1f-4450-fbc0-74be0cc6fddc"
      },
      "execution_count": 5,
      "outputs": [
        {
          "output_type": "stream",
          "name": "stdout",
          "text": [
            "X=\n",
            "    humidity(%)   luminosity(lux)   PH   temperature_soil(degrees Celsius)  \\\n",
            "0           71              1600  6.5                                23.3   \n",
            "1           75              2000  6.9                                25.8   \n",
            "2           64              1200  6.1                                21.8   \n",
            "3           69              1700  6.6                                24.5   \n",
            "4           66              1300  6.3                                22.7   \n",
            "\n",
            "    temperature_air(degrees Celsius)   water_flow(liter/hour)  \n",
            "0                               28.3                      2.2  \n",
            "1                               30.8                      3.3  \n",
            "2                               26.8                      1.9  \n",
            "3                               29.5                      2.8  \n",
            "4                               27.7                      2.4   \n",
            "\n",
            "Y=\n",
            " 0    4.5\n",
            "1    5.2\n",
            "2    3.8\n",
            "3    4.1\n",
            "4    3.6\n",
            "Name:  water_needed(l), dtype: float64 \n",
            "\n"
          ]
        }
      ]
    },
    {
      "cell_type": "code",
      "source": [
        "# split the data into train and test sets\n",
        "X_train,X_test,Y_train,Y_test=train_test_split(X,Y,test_size=0.3)\n",
        "scaler = StandardScaler()\n",
        "X_train_scaled = scaler.fit_transform(X_train)\n",
        "X_test_scaled = scaler.transform(X_test)\n"
      ],
      "metadata": {
        "id": "1QT5KwaO7mKC"
      },
      "execution_count": 6,
      "outputs": []
    },
    {
      "cell_type": "markdown",
      "source": [
        "\n",
        "\n",
        "\n",
        "#neural network model"
      ],
      "metadata": {
        "id": "-M_oHR3L73dm"
      }
    },
    {
      "cell_type": "code",
      "source": [
        "def create_model(optimizer):\n",
        "    model = tf.keras.models.Sequential([\n",
        "        tf.keras.layers.Dense(64, activation='relu', input_dim=6),\n",
        "        tf.keras.layers.Dense(32, activation='relu'),\n",
        "        tf.keras.layers.Dense(1)\n",
        "    ])\n",
        "\n",
        "    model.compile(optimizer=optimizer, loss='mse')\n",
        "    return model\n",
        "\n",
        "# Perform hyperparameter tuning\n",
        "optimizers = ['SGD', 'RMSprop', 'Adam', 'Adadelta']\n",
        "mse_scores = []\n",
        "r2_scores = []\n",
        "\n",
        "for optimizer in optimizers:\n",
        "    model = create_model(optimizer)\n",
        "    model.fit(X_train_scaled, Y_train, epochs=100, verbose=0)\n",
        "    y_pred = model.predict(X_test_scaled)\n",
        "    mse = mean_squared_error(Y_test, y_pred)\n",
        "    r2 = r2_score(Y_test, y_pred)\n",
        "    mse_scores.append(mse)\n",
        "    r2_scores.append(r2)\n",
        "\n",
        "\n"
      ],
      "metadata": {
        "id": "rxGmVqlZ8PB-",
        "colab": {
          "base_uri": "https://localhost:8080/"
        },
        "outputId": "905166ba-dbdd-4661-c99f-03a56da39228"
      },
      "execution_count": 7,
      "outputs": [
        {
          "output_type": "stream",
          "name": "stdout",
          "text": [
            "1/1 [==============================] - 0s 246ms/step\n",
            "1/1 [==============================] - 0s 129ms/step\n",
            "1/1 [==============================] - 0s 56ms/step\n",
            "1/1 [==============================] - 0s 58ms/step\n"
          ]
        }
      ]
    },
    {
      "cell_type": "code",
      "source": [
        "\n",
        "# Select the best optimizer based on MSE scores\n",
        "best_optimizer = optimizers[np.argmin(mse_scores)]\n",
        "print(\"Best optimizer: \", best_optimizer)\n"
      ],
      "metadata": {
        "id": "PQ_kHyqx7uQa",
        "colab": {
          "base_uri": "https://localhost:8080/"
        },
        "outputId": "e5c068bf-4a8c-459e-b49a-91c3a7af1f9a"
      },
      "execution_count": 8,
      "outputs": [
        {
          "output_type": "stream",
          "name": "stdout",
          "text": [
            "Best optimizer:  SGD\n"
          ]
        }
      ]
    },
    {
      "cell_type": "code",
      "source": [
        "# Train the model with the best optimizer and a suitable learning rate\n",
        "model = create_model(best_optimizer)\n",
        "model.fit(X_train_scaled, Y_train, epochs=500, verbose=0, batch_size=32)"
      ],
      "metadata": {
        "id": "pcydANsh8WD1",
        "colab": {
          "base_uri": "https://localhost:8080/"
        },
        "outputId": "72cce245-343b-4fef-de1f-49cf3777854c"
      },
      "execution_count": 9,
      "outputs": [
        {
          "output_type": "execute_result",
          "data": {
            "text/plain": [
              "<keras.callbacks.History at 0x7f08d6621690>"
            ]
          },
          "metadata": {},
          "execution_count": 9
        }
      ]
    },
    {
      "cell_type": "code",
      "source": [
        "# Evaluate the model\n",
        "y_pred = model.predict(X_test_scaled)\n",
        "mse = mean_squared_error(Y_test, y_pred)\n",
        "r2 = r2_score(Y_test, y_pred)\n",
        "print(\"MSE: \", mse)\n",
        "print(\"R2 Score: \", r2)\n"
      ],
      "metadata": {
        "id": "gPdR0SiZ8ZZX",
        "colab": {
          "base_uri": "https://localhost:8080/"
        },
        "outputId": "ed38b37a-b62d-4ce1-fe61-f7c224d059cc"
      },
      "execution_count": 10,
      "outputs": [
        {
          "output_type": "stream",
          "name": "stderr",
          "text": [
            "WARNING:tensorflow:5 out of the last 5 calls to <function Model.make_predict_function.<locals>.predict_function at 0x7f08d67485e0> triggered tf.function retracing. Tracing is expensive and the excessive number of tracings could be due to (1) creating @tf.function repeatedly in a loop, (2) passing tensors with different shapes, (3) passing Python objects instead of tensors. For (1), please define your @tf.function outside of the loop. For (2), @tf.function has reduce_retracing=True option that can avoid unnecessary retracing. For (3), please refer to https://www.tensorflow.org/guide/function#controlling_retracing and https://www.tensorflow.org/api_docs/python/tf/function for  more details.\n"
          ]
        },
        {
          "output_type": "stream",
          "name": "stdout",
          "text": [
            "1/1 [==============================] - 0s 65ms/step\n",
            "MSE:  0.019267239685396915\n",
            "R2 Score:  0.9581624176793204\n"
          ]
        }
      ]
    },
    {
      "cell_type": "code",
      "source": [
        "# Make predictions with the model\n",
        "zone_1= np.array([76, 1600, 6.7, 27, 20.94, 2.2])\n",
        "zone1_scaled = scaler.transform(zone_1.reshape(1, -1))\n",
        "pred1 = model.predict(zone1_scaled)\n",
        "zone_2 = np.array([70.3, 1900, 6.5, 34.7, 25.9, 2.2])\n",
        "zone2_scaled = scaler.transform(zone_2.reshape(1, -1))\n",
        "pred2 = model.predict(zone2_scaled)\n",
        "print(\"Prediction1 for the zone number 1: \", pred1)\n",
        "print(\"Prediction2 for the zone number 2: \", pred2)\n",
        "print(\"In the zone, one 'large' is 0.5 hectare. To determine the water needed for this zone, we calculate 5500 * pred1:\", 5500*pred1, \"L\")\n",
        "print(\"In the zone two 'large' is 0.5 hectare. To determine the water needed for this zone, we calculate 5500 * pred2:\", 5500*pred2, \"L\")"
      ],
      "metadata": {
        "id": "l9Ze8GC08bTD",
        "colab": {
          "base_uri": "https://localhost:8080/"
        },
        "outputId": "29f05b69-7e46-46ab-f74e-15edc13a0c13"
      },
      "execution_count": 11,
      "outputs": [
        {
          "output_type": "stream",
          "name": "stdout",
          "text": [
            "1/1 [==============================] - 0s 22ms/step\n",
            "1/1 [==============================] - 0s 21ms/step\n",
            "Prediction1 for the zone number 1:  [[2.0653613]]\n",
            "Prediction2 for the zone number 2:  [[2.3451388]]\n",
            "In the zone, one 'large' is 0.5 hectare. To determine the water needed for this zone, we calculate 5500 * pred1: [[11359.487]] L\n",
            "In the zone two 'large' is 0.5 hectare. To determine the water needed for this zone, we calculate 5500 * pred2: [[12898.264]] L\n"
          ]
        },
        {
          "output_type": "stream",
          "name": "stderr",
          "text": [
            "/usr/local/lib/python3.10/dist-packages/sklearn/base.py:439: UserWarning: X does not have valid feature names, but StandardScaler was fitted with feature names\n",
            "  warnings.warn(\n",
            "/usr/local/lib/python3.10/dist-packages/sklearn/base.py:439: UserWarning: X does not have valid feature names, but StandardScaler was fitted with feature names\n",
            "  warnings.warn(\n"
          ]
        }
      ]
    },
    {
      "cell_type": "code",
      "source": [
        "model.summary()\n"
      ],
      "metadata": {
        "colab": {
          "base_uri": "https://localhost:8080/"
        },
        "id": "kz1TOYlOnf-b",
        "outputId": "4690663b-d083-42ca-b65b-cfbf6e9a8c48"
      },
      "execution_count": 12,
      "outputs": [
        {
          "output_type": "stream",
          "name": "stdout",
          "text": [
            "Model: \"sequential_4\"\n",
            "_________________________________________________________________\n",
            " Layer (type)                Output Shape              Param #   \n",
            "=================================================================\n",
            " dense_12 (Dense)            (None, 64)                448       \n",
            "                                                                 \n",
            " dense_13 (Dense)            (None, 32)                2080      \n",
            "                                                                 \n",
            " dense_14 (Dense)            (None, 1)                 33        \n",
            "                                                                 \n",
            "=================================================================\n",
            "Total params: 2,561\n",
            "Trainable params: 2,561\n",
            "Non-trainable params: 0\n",
            "_________________________________________________________________\n"
          ]
        }
      ]
    },
    {
      "cell_type": "markdown",
      "source": [
        "*Donlawd_the_model*"
      ],
      "metadata": {
        "id": "Hm0hIq8gtqd8"
      }
    },
    {
      "cell_type": "code",
      "source": [
        "# Convert the model to TensorFlow Lite\n",
        "converter = tf.lite.TFLiteConverter.from_keras_model(model)\n",
        "tflite_model = converter.convert()\n",
        "\n",
        "# Save the TensorFlow Lite model as a file\n",
        "with open('model.tflite', 'wb') as f:\n",
        "    f.write(tflite_model)\n",
        "\n",
        "# Download the TensorFlow Lite model file\n",
        "from google.colab import files\n",
        "#files.download('model.tflite')"
      ],
      "metadata": {
        "id": "EY4_azbutzKd",
        "colab": {
          "base_uri": "https://localhost:8080/"
        },
        "outputId": "2b10c6b7-e337-41d9-ef72-80bc21a21ded"
      },
      "execution_count": 13,
      "outputs": [
        {
          "output_type": "stream",
          "name": "stderr",
          "text": [
            "WARNING:absl:Found untraced functions such as _update_step_xla while saving (showing 1 of 1). These functions will not be directly callable after loading.\n"
          ]
        }
      ]
    },
    {
      "cell_type": "code",
      "source": [
        "import tensorflow as tf\n",
        "from google.colab import files\n",
        "\n",
        "# Save the model as TensorFlow SavedModel\n",
        "tf.saved_model.save(model, 'saved_model')\n",
        "\n",
        "# Download the SavedModel .pb file\n",
        "#files.download('saved_model/saved_model.pb')\n"
      ],
      "metadata": {
        "id": "UgYK1MEKh3Zb",
        "colab": {
          "base_uri": "https://localhost:8080/"
        },
        "outputId": "ffeecc93-aed6-41c1-f1fe-23441287f50d"
      },
      "execution_count": 14,
      "outputs": [
        {
          "output_type": "stream",
          "name": "stderr",
          "text": [
            "WARNING:absl:Found untraced functions such as _update_step_xla while saving (showing 1 of 1). These functions will not be directly callable after loading.\n"
          ]
        }
      ]
    }
  ]
}